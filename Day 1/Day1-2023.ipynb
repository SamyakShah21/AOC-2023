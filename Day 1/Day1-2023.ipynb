{
 "cells": [
  {
   "cell_type": "code",
   "execution_count": null,
   "id": "2dad4ffd",
   "metadata": {},
   "outputs": [],
   "source": [
    "###Time Taken to solve: 22 minutes"
   ]
  },
  {
   "cell_type": "code",
   "execution_count": null,
   "id": "63494f97",
   "metadata": {},
   "outputs": [],
   "source": [
    "with open('test.txt', 'r') as file:\n",
    "    lines = file.readlines()"
   ]
  },
  {
   "cell_type": "code",
   "execution_count": null,
   "id": "c9085a46",
   "metadata": {},
   "outputs": [],
   "source": [
    "lines"
   ]
  },
  {
   "cell_type": "code",
   "execution_count": null,
   "id": "cf2b02a5",
   "metadata": {},
   "outputs": [],
   "source": [
    "###PART 1\n",
    "tot = 0\n",
    "for i in lines:\n",
    "    num = \"\"\n",
    "    for j in range(len(i)):\n",
    "        if i[j].isdigit():\n",
    "            num += i[j]\n",
    "            break\n",
    "    for j in range(len(i)-1,-1,-1):\n",
    "        if i[j].isdigit():\n",
    "            num += i[j]\n",
    "            break\n",
    "    tot +=int(num)"
   ]
  },
  {
   "cell_type": "code",
   "execution_count": null,
   "id": "1617ca81",
   "metadata": {},
   "outputs": [],
   "source": [
    "tot"
   ]
  },
  {
   "cell_type": "code",
   "execution_count": null,
   "id": "dd7722fc",
   "metadata": {},
   "outputs": [],
   "source": [
    "###PART 2\n",
    "\n",
    "mapping = {\"one\":\"1\", \"two\":\"2\", \"three\":\"3\", \"four\":\"4\", \"five\":\"5\", \"six\":\"6\", \"seven\":\"7\", \"eight\":\"8\", \"nine\":\"9\"}\n",
    "\n",
    "import regex as re\n",
    "\n",
    "tot = 0\n",
    "for i in lines:\n",
    "    matches = re.findall(\n",
    "        r\"\\d|one|two|three|four|five|six|seven|eight|nine\", i, overlapped=True)\n",
    "    if matches:\n",
    "        first = mapping.get(matches[0], matches[0])\n",
    "        last = mapping.get(matches[-1], matches[-1])\n",
    "        #print(int(first + last))\n",
    "        tot += int(first + last)\n",
    "    "
   ]
  },
  {
   "cell_type": "code",
   "execution_count": null,
   "id": "875a5b66",
   "metadata": {},
   "outputs": [],
   "source": [
    "tot\n"
   ]
  }
 ],
 "metadata": {
  "kernelspec": {
   "display_name": "Python 3 (ipykernel)",
   "language": "python",
   "name": "python3"
  },
  "language_info": {
   "codemirror_mode": {
    "name": "ipython",
    "version": 3
   },
   "file_extension": ".py",
   "mimetype": "text/x-python",
   "name": "python",
   "nbconvert_exporter": "python",
   "pygments_lexer": "ipython3",
   "version": "3.11.3"
  }
 },
 "nbformat": 4,
 "nbformat_minor": 5
}
