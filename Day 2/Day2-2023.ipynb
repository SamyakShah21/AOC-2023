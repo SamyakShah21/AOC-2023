{
 "cells": [
  {
   "cell_type": "code",
   "execution_count": null,
   "id": "2dad4ffd",
   "metadata": {},
   "outputs": [],
   "source": [
    "###Time Taken to solve:  18 minutes 30 seconds"
   ]
  },
  {
   "cell_type": "code",
   "execution_count": null,
   "id": "63494f97",
   "metadata": {},
   "outputs": [],
   "source": [
    "with open('test.txt', 'r') as file:\n",
    "    lines = file.readlines()"
   ]
  },
  {
   "cell_type": "code",
   "execution_count": null,
   "id": "6ae19a2d",
   "metadata": {},
   "outputs": [],
   "source": [
    "print(lines)"
   ]
  },
  {
   "cell_type": "code",
   "execution_count": null,
   "id": "cf2b02a5",
   "metadata": {},
   "outputs": [],
   "source": [
    "###PART 1\n",
    "game_max_vals = {}\n",
    "\n",
    "for line in lines:\n",
    "    #Remove the newline char\n",
    "    line = line.replace('\\n','')\n",
    "    game_id, data = line.split(\": \")\n",
    "    rounds = data.split(\"; \")\n",
    "    max_values = {\"red\": 0, \"blue\": 0, \"green\": 0}\n",
    "    for i in rounds:\n",
    "        colours = i.split(\", \")\n",
    "        for colour in colours:\n",
    "            count, colour_name = colour.split(\" \")\n",
    "            count = int(count)\n",
    "            if count > max_values[colour_name]:\n",
    "                max_values[colour_name] = count\n",
    "    game_max_vals[game_id] = max_values\n",
    "\n",
    "id_sum = 0\n",
    "\n",
    "for game_id, max_values in game_max_vals.items():\n",
    "    if max_values['red']<=12 and max_values['blue']<=14 and max_values['green']<=13:\n",
    "        id_sum += int(game_id[5:])"
   ]
  },
  {
   "cell_type": "code",
   "execution_count": null,
   "id": "9a0e0722",
   "metadata": {},
   "outputs": [],
   "source": [
    "id_sum"
   ]
  },
  {
   "cell_type": "code",
   "execution_count": null,
   "id": "dd7722fc",
   "metadata": {},
   "outputs": [],
   "source": [
    "###PART 2\n",
    "\n",
    "game_max_vals = {}\n",
    "\n",
    "for line in lines:\n",
    "    #Remove the newline char\n",
    "    line = line.replace('\\n','')\n",
    "    game_id, data = line.split(\": \")\n",
    "    rounds = data.split(\"; \")\n",
    "    max_values = {\"red\": 0, \"blue\": 0, \"green\": 0}\n",
    "    for i in rounds:\n",
    "        colours = i.split(\", \")\n",
    "        for colour in colours:\n",
    "            count, colour_name = colour.split(\" \")\n",
    "            count = int(count)\n",
    "            if count > max_values[colour_name]:\n",
    "                max_values[colour_name] = count\n",
    "    game_max_vals[game_id] = max_values\n",
    "\n",
    "tot = 0\n",
    "\n",
    "for game_id, max_values in game_max_vals.items():\n",
    "    power = max_values['red']*max_values['blue']*max_values['green']\n",
    "    tot += power\n",
    "\n",
    "    "
   ]
  },
  {
   "cell_type": "code",
   "execution_count": null,
   "id": "875a5b66",
   "metadata": {},
   "outputs": [],
   "source": [
    "tot\n"
   ]
  }
 ],
 "metadata": {
  "kernelspec": {
   "display_name": "Python 3 (ipykernel)",
   "language": "python",
   "name": "python3"
  },
  "language_info": {
   "codemirror_mode": {
    "name": "ipython",
    "version": 3
   },
   "file_extension": ".py",
   "mimetype": "text/x-python",
   "name": "python",
   "nbconvert_exporter": "python",
   "pygments_lexer": "ipython3",
   "version": "3.11.3"
  }
 },
 "nbformat": 4,
 "nbformat_minor": 5
}
